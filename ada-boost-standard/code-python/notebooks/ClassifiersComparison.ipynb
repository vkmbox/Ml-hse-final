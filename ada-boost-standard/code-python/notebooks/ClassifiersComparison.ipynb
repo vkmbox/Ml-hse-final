{
 "cells": [
  {
   "cell_type": "code",
   "execution_count": 32,
   "metadata": {},
   "outputs": [],
   "source": [
    "import numpy as np\n",
    "import pandas as pd\n",
    "from sklearn.ensemble import AdaBoostClassifier\n",
    "from sklearn.datasets import make_classification\n",
    "from sklearn.model_selection import train_test_split\n",
    "from sklearn.metrics import accuracy_score, balanced_accuracy_score, confusion_matrix, matthews_corrcoef\\\n",
    ", precision_score, recall_score, f1_score\n",
    "import time\n",
    "import math"
   ]
  },
  {
   "cell_type": "code",
   "execution_count": 33,
   "metadata": {},
   "outputs": [],
   "source": [
    "import os\n",
    "import sys\n",
    "new_path = \"d:/Projects-my/ml/Ml-hse-final/ada-boost-standard/code-python/\"\n",
    "sys.path.append(new_path)\n",
    "\n",
    "from ada_boost_standard_v1 import AdaBoostStandardClassifier_v1;\n",
    "from ada_boost_standard_v2 import AdaBoostStandardClassifier_v2;\n",
    "from ada_boost_linear_v1 import AdaBoostLinear_v1;"
   ]
  },
  {
   "cell_type": "code",
   "execution_count": 34,
   "metadata": {},
   "outputs": [],
   "source": [
    "def correct_Y(y_data):\n",
    "    return [-1 if item == 0 else item for item in y_data]\n",
    "\n",
    "def uncorrect_Y(y_data):\n",
    "    return [0 if item == -1 else item for item in y_data]\n",
    "\n",
    "def compute_metrics(y_test, y_pred):\n",
    "    print('Accuracy: {:.5f}'.format(accuracy_score(y_test, y_pred)))\n",
    "    print('F-score: {:.5f}'.format(f1_score(y_test, y_pred)))\n",
    "    print('Precision: {:.5f}'.format(precision_score(y_test, y_pred)))\n",
    "    print('Recall: {:.5f}'.format(recall_score(y_test, y_pred)))\n",
    "    print('Accuracy (balanced): {:.5f}'.format(balanced_accuracy_score(y_test, y_pred)))\n",
    "    print('MCC: {:.5f}'.format(matthews_corrcoef(y_test, y_pred)))\n",
    "\n",
    "def compute_confusion_matrix(y_test, y_pred, labels=[1, -1]):\n",
    "    compute_metrics(y_test, y_pred)\n",
    "    return pd.DataFrame(\n",
    "        confusion_matrix(y_test, y_pred, labels=labels),\n",
    "        columns=['a(x) = '+str(labels[0]), 'a(x) = '+str(labels[1])],\n",
    "        index=['y = '+str(labels[0]), 'y = '+str(labels[1])],\n",
    "    ).T"
   ]
  },
  {
   "cell_type": "code",
   "execution_count": 52,
   "metadata": {},
   "outputs": [],
   "source": [
    "normal = [[1/2]]*4\n",
    "\n",
    "def get_separable_y(x_data):\n",
    "    return np.sign(np.squeeze(np.matmul(x_data, normal)))"
   ]
  },
  {
   "cell_type": "markdown",
   "metadata": {},
   "source": [
    "#### Experiment with the separable data, feature 1 (starting from 0) allows to get error-free timestamp classifier"
   ]
  },
  {
   "cell_type": "code",
   "execution_count": 36,
   "metadata": {},
   "outputs": [],
   "source": [
    "X_separable1 = np.array([[ 0.6476239 , -0.81753611, -1.61389785, -0.21274028],\n",
    "       [-2.3748206 ,  0.82768797, -0.38732682, -0.30230275],\n",
    "       [ 1.51783379,  1.22140561, -0.51080514, -1.18063218],\n",
    "       [-0.98740462,  0.99958558, -1.70627019,  1.9507754 ],\n",
    "       [-1.43411205,  1.50037656, -1.04855297, -1.42001794],\n",
    "       [ 0.29484027, -0.79249401, -1.25279536,  0.77749036]])\n",
    "\n",
    "y_separable1 = correct_Y(np.array([0, 0, 1, 1, 1, 0]))\n"
   ]
  },
  {
   "cell_type": "code",
   "execution_count": 37,
   "metadata": {},
   "outputs": [
    {
     "name": "stdout",
     "output_type": "stream",
     "text": [
      "error_free_classifier_found 3\n"
     ]
    }
   ],
   "source": [
    "clf = AdaBoostStandardClassifier_v2(n_estimators=10)\n",
    "result, history = clf.fit(X_separable1, y_separable1, trace=True)\n",
    "print(result, len(history))\n"
   ]
  },
  {
   "cell_type": "code",
   "execution_count": 38,
   "metadata": {},
   "outputs": [
    {
     "name": "stdout",
     "output_type": "stream",
     "text": [
      "Accuracy: 1.00000\n",
      "F-score: 1.00000\n",
      "Precision: 1.00000\n",
      "Recall: 1.00000\n",
      "Accuracy (balanced): 1.00000\n",
      "MCC: 1.00000\n"
     ]
    },
    {
     "data": {
      "text/html": [
       "<div>\n",
       "<style scoped>\n",
       "    .dataframe tbody tr th:only-of-type {\n",
       "        vertical-align: middle;\n",
       "    }\n",
       "\n",
       "    .dataframe tbody tr th {\n",
       "        vertical-align: top;\n",
       "    }\n",
       "\n",
       "    .dataframe thead th {\n",
       "        text-align: right;\n",
       "    }\n",
       "</style>\n",
       "<table border=\"1\" class=\"dataframe\">\n",
       "  <thead>\n",
       "    <tr style=\"text-align: right;\">\n",
       "      <th></th>\n",
       "      <th>y = 1</th>\n",
       "      <th>y = -1</th>\n",
       "    </tr>\n",
       "  </thead>\n",
       "  <tbody>\n",
       "    <tr>\n",
       "      <th>a(x) = 1</th>\n",
       "      <td>3</td>\n",
       "      <td>0</td>\n",
       "    </tr>\n",
       "    <tr>\n",
       "      <th>a(x) = -1</th>\n",
       "      <td>0</td>\n",
       "      <td>3</td>\n",
       "    </tr>\n",
       "  </tbody>\n",
       "</table>\n",
       "</div>"
      ],
      "text/plain": [
       "           y = 1  y = -1\n",
       "a(x) = 1       3       0\n",
       "a(x) = -1      0       3"
      ]
     },
     "execution_count": 38,
     "metadata": {},
     "output_type": "execute_result"
    }
   ],
   "source": [
    "y_pred_separable1 = clf.predict(X_separable1)\n",
    "compute_confusion_matrix(y_separable1, y_pred_separable1, labels=[1, -1])"
   ]
  },
  {
   "cell_type": "markdown",
   "metadata": {},
   "source": [
    "#### Experiment with 1000 samples data set"
   ]
  },
  {
   "cell_type": "code",
   "execution_count": 53,
   "metadata": {},
   "outputs": [],
   "source": [
    "X1000, y1000 = make_classification(n_samples=1000, n_features=4,\n",
    "                            n_informative=2, n_redundant=0,\n",
    "                            random_state=0, shuffle=False)\n",
    "\n",
    "X_train1000, X_test1000, y_train1000, y_test1000 = train_test_split(X1000, y1000, test_size=0.33, random_state=42)\n",
    "y_train1000pm, y_test1000pm = correct_Y(y_train1000), correct_Y(y_test1000)\n",
    "y_train1000_sep, y_test1000_sep = get_separable_y(X_train1000), get_separable_y(X_test1000)\n",
    "y_train1000cr_sep, y_test1000cr_sep = uncorrect_Y(y_train1000_sep), uncorrect_Y(y_test1000_sep)"
   ]
  },
  {
   "cell_type": "markdown",
   "metadata": {},
   "source": [
    "##### Classifier AdaBoostLinear v1"
   ]
  },
  {
   "cell_type": "code",
   "execution_count": 54,
   "metadata": {},
   "outputs": [
    {
     "name": "stdout",
     "output_type": "stream",
     "text": [
      "Elapsed time: 5.625959396362305\n",
      "True Optimization terminated successfully.\n"
     ]
    }
   ],
   "source": [
    "start = time.time()\n",
    "clf1000_linear = AdaBoostLinear_v1()\n",
    "result, message = clf1000_linear.fit(X_train1000, y_train1000_sep, allow_nonseparable=True)\n",
    "end = time.time()\n",
    "print(\"Elapsed time: {}\".format(end - start))\n",
    "print(result, message)\n"
   ]
  },
  {
   "cell_type": "code",
   "execution_count": 55,
   "metadata": {},
   "outputs": [
    {
     "name": "stdout",
     "output_type": "stream",
     "text": [
      "Accuracy: 0.95758\n",
      "F-score: 0.95652\n",
      "Precision: 0.95062\n",
      "Recall: 0.96250\n",
      "Accuracy (balanced): 0.95772\n",
      "MCC: 0.91517\n"
     ]
    },
    {
     "data": {
      "text/html": [
       "<div>\n",
       "<style scoped>\n",
       "    .dataframe tbody tr th:only-of-type {\n",
       "        vertical-align: middle;\n",
       "    }\n",
       "\n",
       "    .dataframe tbody tr th {\n",
       "        vertical-align: top;\n",
       "    }\n",
       "\n",
       "    .dataframe thead th {\n",
       "        text-align: right;\n",
       "    }\n",
       "</style>\n",
       "<table border=\"1\" class=\"dataframe\">\n",
       "  <thead>\n",
       "    <tr style=\"text-align: right;\">\n",
       "      <th></th>\n",
       "      <th>y = -1</th>\n",
       "      <th>y = 1</th>\n",
       "    </tr>\n",
       "  </thead>\n",
       "  <tbody>\n",
       "    <tr>\n",
       "      <th>a(x) = -1</th>\n",
       "      <td>162</td>\n",
       "      <td>6</td>\n",
       "    </tr>\n",
       "    <tr>\n",
       "      <th>a(x) = 1</th>\n",
       "      <td>8</td>\n",
       "      <td>154</td>\n",
       "    </tr>\n",
       "  </tbody>\n",
       "</table>\n",
       "</div>"
      ],
      "text/plain": [
       "           y = -1  y = 1\n",
       "a(x) = -1     162      6\n",
       "a(x) = 1        8    154"
      ]
     },
     "execution_count": 55,
     "metadata": {},
     "output_type": "execute_result"
    }
   ],
   "source": [
    "y_pred1000_linear = clf1000_linear.predict(X_test1000)\n",
    "compute_confusion_matrix(y_test1000_sep, y_pred1000_linear, labels=[-1, 1])"
   ]
  },
  {
   "cell_type": "markdown",
   "metadata": {},
   "source": [
    "##### Classifier AdaBoostStandard v1"
   ]
  },
  {
   "cell_type": "code",
   "execution_count": 56,
   "metadata": {},
   "outputs": [
    {
     "name": "stdout",
     "output_type": "stream",
     "text": [
      "Elapsed time: 41.538973331451416\n",
      "iterations_exceeded 10\n"
     ]
    },
    {
     "data": {
      "text/plain": [
       "[0.2701492537313426,\n",
       " 0.25732411391171034,\n",
       " 0.2809114206886934,\n",
       " 0.2730613971489954,\n",
       " 0.29492723603788906,\n",
       " 0.3004946216510261,\n",
       " 0.3329447638014405,\n",
       " 0.3157330718374596,\n",
       " 0.373847452482741,\n",
       " 0.3347125743490683]"
      ]
     },
     "execution_count": 56,
     "metadata": {},
     "output_type": "execute_result"
    }
   ],
   "source": [
    "start = time.time()\n",
    "\n",
    "clf1000v1 = AdaBoostStandardClassifier_v1(n_estimators=10)\n",
    "result, history = clf1000v1.fit(X_train1000, y_train1000_sep, trace=True)\n",
    "end = time.time()\n",
    "\n",
    "print(\"Elapsed time: {}\".format(end - start))\n",
    "print(result, len(history['error']))\n",
    "history['error']"
   ]
  },
  {
   "cell_type": "code",
   "execution_count": 57,
   "metadata": {},
   "outputs": [
    {
     "name": "stdout",
     "output_type": "stream",
     "text": [
      "Accuracy: 0.88182\n",
      "F-score: 0.87540\n",
      "Precision: 0.89542\n",
      "Recall: 0.85625\n",
      "Accuracy (balanced): 0.88107\n",
      "MCC: 0.76381\n"
     ]
    },
    {
     "data": {
      "text/html": [
       "<div>\n",
       "<style scoped>\n",
       "    .dataframe tbody tr th:only-of-type {\n",
       "        vertical-align: middle;\n",
       "    }\n",
       "\n",
       "    .dataframe tbody tr th {\n",
       "        vertical-align: top;\n",
       "    }\n",
       "\n",
       "    .dataframe thead th {\n",
       "        text-align: right;\n",
       "    }\n",
       "</style>\n",
       "<table border=\"1\" class=\"dataframe\">\n",
       "  <thead>\n",
       "    <tr style=\"text-align: right;\">\n",
       "      <th></th>\n",
       "      <th>y = -1</th>\n",
       "      <th>y = 1</th>\n",
       "    </tr>\n",
       "  </thead>\n",
       "  <tbody>\n",
       "    <tr>\n",
       "      <th>a(x) = -1</th>\n",
       "      <td>154</td>\n",
       "      <td>23</td>\n",
       "    </tr>\n",
       "    <tr>\n",
       "      <th>a(x) = 1</th>\n",
       "      <td>16</td>\n",
       "      <td>137</td>\n",
       "    </tr>\n",
       "  </tbody>\n",
       "</table>\n",
       "</div>"
      ],
      "text/plain": [
       "           y = -1  y = 1\n",
       "a(x) = -1     154     23\n",
       "a(x) = 1       16    137"
      ]
     },
     "execution_count": 57,
     "metadata": {},
     "output_type": "execute_result"
    }
   ],
   "source": [
    "y_pred1000v1 = clf1000v1.predict(X_test1000)\n",
    "compute_confusion_matrix(y_test1000_sep, y_pred1000v1, labels=[-1, 1])"
   ]
  },
  {
   "cell_type": "markdown",
   "metadata": {},
   "source": [
    "##### Classifier AdaBoostStandard v2"
   ]
  },
  {
   "cell_type": "code",
   "execution_count": 60,
   "metadata": {},
   "outputs": [
    {
     "name": "stdout",
     "output_type": "stream",
     "text": [
      "Elapsed time: 25.20303463935852\n",
      "iterations_exceeded 10\n"
     ]
    },
    {
     "data": {
      "text/plain": [
       "[0.2701492537313426,\n",
       " 0.2573241139117104,\n",
       " 0.2809114206886942,\n",
       " 0.2738758980725727,\n",
       " 0.2947892754929494,\n",
       " 0.3000387927741812,\n",
       " 0.33236305572071617,\n",
       " 0.31551586906089574,\n",
       " 0.3735755658462361,\n",
       " 0.3191962277803047]"
      ]
     },
     "execution_count": 60,
     "metadata": {},
     "output_type": "execute_result"
    }
   ],
   "source": [
    "start = time.time()\n",
    "\n",
    "clf1000v2 = AdaBoostStandardClassifier_v2(n_estimators=10)\n",
    "result, history = clf1000v2.fit(X_train1000, y_train1000_sep, trace=True)\n",
    "end = time.time()\n",
    "\n",
    "print(\"Elapsed time: {}\".format(end - start))\n",
    "print(result, len(history['error']))\n",
    "history['error']"
   ]
  },
  {
   "cell_type": "code",
   "execution_count": 63,
   "metadata": {},
   "outputs": [
    {
     "name": "stdout",
     "output_type": "stream",
     "text": [
      "Accuracy: 0.89394\n",
      "F-score: 0.89362\n",
      "Precision: 0.86982\n",
      "Recall: 0.91875\n",
      "Accuracy (balanced): 0.89467\n",
      "MCC: 0.78921\n"
     ]
    },
    {
     "data": {
      "text/html": [
       "<div>\n",
       "<style scoped>\n",
       "    .dataframe tbody tr th:only-of-type {\n",
       "        vertical-align: middle;\n",
       "    }\n",
       "\n",
       "    .dataframe tbody tr th {\n",
       "        vertical-align: top;\n",
       "    }\n",
       "\n",
       "    .dataframe thead th {\n",
       "        text-align: right;\n",
       "    }\n",
       "</style>\n",
       "<table border=\"1\" class=\"dataframe\">\n",
       "  <thead>\n",
       "    <tr style=\"text-align: right;\">\n",
       "      <th></th>\n",
       "      <th>y = -1</th>\n",
       "      <th>y = 1</th>\n",
       "    </tr>\n",
       "  </thead>\n",
       "  <tbody>\n",
       "    <tr>\n",
       "      <th>a(x) = -1</th>\n",
       "      <td>148</td>\n",
       "      <td>13</td>\n",
       "    </tr>\n",
       "    <tr>\n",
       "      <th>a(x) = 1</th>\n",
       "      <td>22</td>\n",
       "      <td>147</td>\n",
       "    </tr>\n",
       "  </tbody>\n",
       "</table>\n",
       "</div>"
      ],
      "text/plain": [
       "           y = -1  y = 1\n",
       "a(x) = -1     148     13\n",
       "a(x) = 1       22    147"
      ]
     },
     "execution_count": 63,
     "metadata": {},
     "output_type": "execute_result"
    }
   ],
   "source": [
    "y_pred1000v2 = clf1000v2.predict(X_test1000)\n",
    "compute_confusion_matrix(y_test1000_sep, y_pred1000v2, labels=[-1, 1])"
   ]
  },
  {
   "cell_type": "markdown",
   "metadata": {},
   "source": [
    "##### Classifier sklearn.ensemble.AdaBoostClassifier"
   ]
  },
  {
   "cell_type": "code",
   "execution_count": 69,
   "metadata": {},
   "outputs": [
    {
     "name": "stdout",
     "output_type": "stream",
     "text": [
      "Accuracy: 0.97576\n",
      "F-score: 0.97516\n",
      "Precision: 0.96914\n",
      "Recall: 0.98125\n",
      "Accuracy (balanced): 0.97592\n",
      "MCC: 0.95156\n"
     ]
    },
    {
     "data": {
      "text/html": [
       "<div>\n",
       "<style scoped>\n",
       "    .dataframe tbody tr th:only-of-type {\n",
       "        vertical-align: middle;\n",
       "    }\n",
       "\n",
       "    .dataframe tbody tr th {\n",
       "        vertical-align: top;\n",
       "    }\n",
       "\n",
       "    .dataframe thead th {\n",
       "        text-align: right;\n",
       "    }\n",
       "</style>\n",
       "<table border=\"1\" class=\"dataframe\">\n",
       "  <thead>\n",
       "    <tr style=\"text-align: right;\">\n",
       "      <th></th>\n",
       "      <th>y = 0</th>\n",
       "      <th>y = 1</th>\n",
       "    </tr>\n",
       "  </thead>\n",
       "  <tbody>\n",
       "    <tr>\n",
       "      <th>a(x) = 0</th>\n",
       "      <td>165</td>\n",
       "      <td>3</td>\n",
       "    </tr>\n",
       "    <tr>\n",
       "      <th>a(x) = 1</th>\n",
       "      <td>5</td>\n",
       "      <td>157</td>\n",
       "    </tr>\n",
       "  </tbody>\n",
       "</table>\n",
       "</div>"
      ],
      "text/plain": [
       "          y = 0  y = 1\n",
       "a(x) = 0    165      3\n",
       "a(x) = 1      5    157"
      ]
     },
     "execution_count": 69,
     "metadata": {},
     "output_type": "execute_result"
    }
   ],
   "source": [
    "clf1000std = AdaBoostClassifier(n_estimators=1000, random_state=0)\n",
    "clf1000std.fit(X_train1000, y_train1000cr_sep)\n",
    "y_pred1000std = clf1000std.predict(X_test1000)\n",
    "compute_confusion_matrix(y_test1000cr_sep, y_pred1000std, labels=[0, 1])"
   ]
  },
  {
   "cell_type": "markdown",
   "metadata": {},
   "source": [
    "#### Experiment with 10000 samples data set"
   ]
  },
  {
   "cell_type": "code",
   "execution_count": 71,
   "metadata": {},
   "outputs": [],
   "source": [
    "X104, y104 = make_classification(n_samples=10000, n_features=4,\n",
    "                            n_informative=2, n_redundant=0,\n",
    "                            random_state=0, shuffle=False)\n",
    "\n",
    "X_train104, X_test104, y_train104, y_test104 = train_test_split(X104, y104, test_size=0.33, random_state=42)\n",
    "y_train104pm, y_test104pm = correct_Y(y_train104), correct_Y(y_test104)\n",
    "y_train104_sep, y_test104_sep = get_separable_y(X_train104), get_separable_y(X_test104)\n",
    "y_train104cr_sep, y_test104cr_sep = uncorrect_Y(y_train104_sep), uncorrect_Y(y_test104_sep)"
   ]
  },
  {
   "cell_type": "markdown",
   "metadata": {},
   "source": [
    "##### Classifier sklearn.ensemble.AdaBoostClassifier"
   ]
  },
  {
   "cell_type": "code",
   "execution_count": 72,
   "metadata": {},
   "outputs": [
    {
     "name": "stdout",
     "output_type": "stream",
     "text": [
      "Accuracy: 0.88485\n",
      "F-score: 0.88110\n",
      "Precision: 0.87781\n",
      "Recall: 0.88442\n",
      "Accuracy (balanced): 0.88483\n",
      "MCC: 0.76949\n"
     ]
    },
    {
     "data": {
      "text/html": [
       "<div>\n",
       "<style scoped>\n",
       "    .dataframe tbody tr th:only-of-type {\n",
       "        vertical-align: middle;\n",
       "    }\n",
       "\n",
       "    .dataframe tbody tr th {\n",
       "        vertical-align: top;\n",
       "    }\n",
       "\n",
       "    .dataframe thead th {\n",
       "        text-align: right;\n",
       "    }\n",
       "</style>\n",
       "<table border=\"1\" class=\"dataframe\">\n",
       "  <thead>\n",
       "    <tr style=\"text-align: right;\">\n",
       "      <th></th>\n",
       "      <th>y = 1</th>\n",
       "      <th>y = 0</th>\n",
       "    </tr>\n",
       "  </thead>\n",
       "  <tbody>\n",
       "    <tr>\n",
       "      <th>a(x) = 1</th>\n",
       "      <td>1408</td>\n",
       "      <td>196</td>\n",
       "    </tr>\n",
       "    <tr>\n",
       "      <th>a(x) = 0</th>\n",
       "      <td>184</td>\n",
       "      <td>1512</td>\n",
       "    </tr>\n",
       "  </tbody>\n",
       "</table>\n",
       "</div>"
      ],
      "text/plain": [
       "          y = 1  y = 0\n",
       "a(x) = 1   1408    196\n",
       "a(x) = 0    184   1512"
      ]
     },
     "execution_count": 72,
     "metadata": {},
     "output_type": "execute_result"
    }
   ],
   "source": [
    "clf104std = AdaBoostClassifier(n_estimators=10, random_state=0)\n",
    "clf104std.fit(X_train104, y_train104cr_sep)\n",
    "y_pred104std = clf104std.predict(X_test104)\n",
    "compute_confusion_matrix(y_test104cr_sep, y_pred104std, labels=[1, 0])"
   ]
  },
  {
   "cell_type": "markdown",
   "metadata": {},
   "source": [
    "##### Classifier AdaBoostLinear v1"
   ]
  },
  {
   "cell_type": "code",
   "execution_count": 73,
   "metadata": {},
   "outputs": [
    {
     "name": "stdout",
     "output_type": "stream",
     "text": [
      "Elapsed time: 2065.104259490967\n",
      "True Optimization terminated successfully.\n"
     ]
    }
   ],
   "source": [
    "start = time.time()\n",
    "clf104_linear = AdaBoostLinear_v1()\n",
    "result, message = clf104_linear.fit(X_train104, y_train104_sep, allow_nonseparable=True)\n",
    "end = time.time()\n",
    "print(\"Elapsed time: {}\".format(end - start))\n",
    "print(result, message)\n"
   ]
  },
  {
   "cell_type": "code",
   "execution_count": 74,
   "metadata": {},
   "outputs": [
    {
     "name": "stdout",
     "output_type": "stream",
     "text": [
      "Accuracy: 0.98485\n",
      "F-score: 0.98430\n",
      "Precision: 0.98430\n",
      "Recall: 0.98430\n",
      "Accuracy (balanced): 0.98483\n",
      "MCC: 0.96966\n"
     ]
    },
    {
     "data": {
      "text/html": [
       "<div>\n",
       "<style scoped>\n",
       "    .dataframe tbody tr th:only-of-type {\n",
       "        vertical-align: middle;\n",
       "    }\n",
       "\n",
       "    .dataframe tbody tr th {\n",
       "        vertical-align: top;\n",
       "    }\n",
       "\n",
       "    .dataframe thead th {\n",
       "        text-align: right;\n",
       "    }\n",
       "</style>\n",
       "<table border=\"1\" class=\"dataframe\">\n",
       "  <thead>\n",
       "    <tr style=\"text-align: right;\">\n",
       "      <th></th>\n",
       "      <th>y = -1</th>\n",
       "      <th>y = 1</th>\n",
       "    </tr>\n",
       "  </thead>\n",
       "  <tbody>\n",
       "    <tr>\n",
       "      <th>a(x) = -1</th>\n",
       "      <td>1683</td>\n",
       "      <td>25</td>\n",
       "    </tr>\n",
       "    <tr>\n",
       "      <th>a(x) = 1</th>\n",
       "      <td>25</td>\n",
       "      <td>1567</td>\n",
       "    </tr>\n",
       "  </tbody>\n",
       "</table>\n",
       "</div>"
      ],
      "text/plain": [
       "           y = -1  y = 1\n",
       "a(x) = -1    1683     25\n",
       "a(x) = 1       25   1567"
      ]
     },
     "execution_count": 74,
     "metadata": {},
     "output_type": "execute_result"
    }
   ],
   "source": [
    "y_pred104_linear = clf104_linear.predict(X_test104)\n",
    "compute_confusion_matrix(y_test104_sep, y_pred104_linear, labels=[-1, 1])"
   ]
  },
  {
   "cell_type": "markdown",
   "metadata": {},
   "source": [
    "##### Classifier AdaBoostStandard v2"
   ]
  },
  {
   "cell_type": "code",
   "execution_count": 51,
   "metadata": {},
   "outputs": [
    {
     "name": "stdout",
     "output_type": "stream",
     "text": [
      "Elapsed time: 2495.8133506774902\n",
      "iterations_exceeded 10\n"
     ]
    }
   ],
   "source": [
    "start = time.time()\n",
    "clf1000v2 = AdaBoostStandardClassifier_v2(n_estimators=10)\n",
    "result, history = clf1000v2.fit(X_train104, y_train104pm, trace=True)\n",
    "end = time.time()\n",
    "\n",
    "print(\"Elapsed time: {}\".format(end - start))\n",
    "print(result, len(history['error']))"
   ]
  },
  {
   "cell_type": "code",
   "execution_count": 53,
   "metadata": {},
   "outputs": [
    {
     "name": "stdout",
     "output_type": "stream",
     "text": [
      "Accuracy: 0.82576\n",
      "F-score: 0.82634\n",
      "Precision: 0.82559\n",
      "Recall: 0.82709\n",
      "Accuracy (balanced): 0.82575\n",
      "MCC: 0.65151\n"
     ]
    },
    {
     "data": {
      "text/html": [
       "<div>\n",
       "<style scoped>\n",
       "    .dataframe tbody tr th:only-of-type {\n",
       "        vertical-align: middle;\n",
       "    }\n",
       "\n",
       "    .dataframe tbody tr th {\n",
       "        vertical-align: top;\n",
       "    }\n",
       "\n",
       "    .dataframe thead th {\n",
       "        text-align: right;\n",
       "    }\n",
       "</style>\n",
       "<table border=\"1\" class=\"dataframe\">\n",
       "  <thead>\n",
       "    <tr style=\"text-align: right;\">\n",
       "      <th></th>\n",
       "      <th>y = 1</th>\n",
       "      <th>y = 1</th>\n",
       "    </tr>\n",
       "  </thead>\n",
       "  <tbody>\n",
       "    <tr>\n",
       "      <th>a(x) = 1</th>\n",
       "      <td>1368</td>\n",
       "      <td>289</td>\n",
       "    </tr>\n",
       "    <tr>\n",
       "      <th>a(x) = 1</th>\n",
       "      <td>286</td>\n",
       "      <td>1357</td>\n",
       "    </tr>\n",
       "  </tbody>\n",
       "</table>\n",
       "</div>"
      ],
      "text/plain": [
       "          y = 1  y = 1\n",
       "a(x) = 1   1368    289\n",
       "a(x) = 1    286   1357"
      ]
     },
     "execution_count": 53,
     "metadata": {},
     "output_type": "execute_result"
    }
   ],
   "source": [
    "y_pred104v2 = clf1000v2.predict(X_test104)\n",
    "compute_confusion_matrix(y_test104pm, y_pred104v2, labels=[1, -1])\n"
   ]
  },
  {
   "cell_type": "code",
   "execution_count": null,
   "metadata": {},
   "outputs": [],
   "source": []
  }
 ],
 "metadata": {
  "kernelspec": {
   "display_name": "Python 3",
   "language": "python",
   "name": "python3"
  },
  "language_info": {
   "codemirror_mode": {
    "name": "ipython",
    "version": 3
   },
   "file_extension": ".py",
   "mimetype": "text/x-python",
   "name": "python",
   "nbconvert_exporter": "python",
   "pygments_lexer": "ipython3",
   "version": "3.8.5"
  }
 },
 "nbformat": 4,
 "nbformat_minor": 4
}
