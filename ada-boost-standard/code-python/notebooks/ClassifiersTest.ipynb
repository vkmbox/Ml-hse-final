{
 "cells": [
  {
   "cell_type": "code",
   "execution_count": 16,
   "metadata": {},
   "outputs": [],
   "source": [
    "import numpy as np\n",
    "import pandas as pd\n",
    "from sklearn.ensemble import AdaBoostClassifier\n",
    "from sklearn.datasets import make_classification\n",
    "from sklearn.model_selection import train_test_split\n",
    "from sklearn.metrics import accuracy_score, balanced_accuracy_score, confusion_matrix, matthews_corrcoef\\\n",
    ", precision_score, recall_score, f1_score\n",
    "import time"
   ]
  },
  {
   "cell_type": "code",
   "execution_count": 17,
   "metadata": {},
   "outputs": [],
   "source": [
    "import os\n",
    "import sys\n",
    "new_path = \"d:/Projects-my/ml/Ml-hse-final/ada-boost-standard/code-python/\"\n",
    "sys.path.append(new_path)\n",
    "\n",
    "from ada_boost_standard_v1 import AdaBoostStandardClassifier_v1;\n",
    "from ada_boost_standard_v2 import AdaBoostStandardClassifier_v2;\n",
    "from ada_boost_linear_v1 import AdaBoostLinear_v1;"
   ]
  },
  {
   "cell_type": "code",
   "execution_count": 18,
   "metadata": {},
   "outputs": [],
   "source": [
    "X_test1 = np.array([[0.1, 0.3],\n",
    "                   [0.2, 0.1],\n",
    "                   [0.3, 0.2]])\n",
    "\n",
    "y_test1 = np.array([[[-1, -1, -1], [0, 1, 0.3]], [[1, 1, 1], [0, -1, 0.3]], [[1, -1, -1], [0, -1, 0.1]]\\\n",
    "                    , [[-1, -1, 1], [0, 1, 0.2]], [[1, -1, 1], [1, 1, 0.1]], [[-1, 1, -1], [1, -1, 0.1]]])\n"
   ]
  },
  {
   "cell_type": "markdown",
   "metadata": {},
   "source": [
    "#### Test of decision stamp correctness"
   ]
  },
  {
   "cell_type": "markdown",
   "metadata": {},
   "source": [
    "##### Classifier AdaBoostStandard v1"
   ]
  },
  {
   "cell_type": "code",
   "execution_count": 4,
   "metadata": {},
   "outputs": [
    {
     "name": "stdout",
     "output_type": "stream",
     "text": [
      "Test 0: result=error_free_classifier_found, iterations=1\n",
      "Test 1: result=error_free_classifier_found, iterations=1\n",
      "Test 2: result=error_free_classifier_found, iterations=1\n",
      "Test 3: result=error_free_classifier_found, iterations=1\n",
      "Test 4: result=error_free_classifier_found, iterations=1\n",
      "Test 5: result=error_free_classifier_found, iterations=1\n"
     ]
    }
   ],
   "source": [
    "clf_v1 = AdaBoostStandardClassifier_v1(n_estimators=10)\n",
    "for num in range(len(y_test1)):\n",
    "    result, history = clf_v1.fit(X_test1, y_test1[num, 0], trace=True)\n",
    "    print(\"Test {}: result={}, iterations={}\".format(num, result, len(history['error'])))\n",
    "    assert len(clf_v1.ensemble) == 1, \"Too many classifiers\"\n",
    "    stamp = clf_v1.ensemble[0][1]\n",
    "    expected = y_test1[num, 1]\n",
    "    assert stamp.feature_number == expected[0]\\\n",
    "        , \"Wrong feature_number: expected {}, found {}\".format(expected[0], stamp.feature_number)\n",
    "    assert stamp.sign == expected[1], \"Wrong sign: expected {}, found {}\".format(expected[1], stamp.sign)\n",
    "    assert stamp.threshold == expected[2]\\\n",
    "        , \"Wrong threshold: expected {}, found {}\".format(expected[2], stamp.threshold)\n"
   ]
  },
  {
   "cell_type": "markdown",
   "metadata": {},
   "source": [
    "##### Classifier AdaBoostStandard v2"
   ]
  },
  {
   "cell_type": "code",
   "execution_count": 5,
   "metadata": {},
   "outputs": [
    {
     "name": "stdout",
     "output_type": "stream",
     "text": [
      "Test 0: result=error_free_classifier_found, iterations=1\n",
      "Test 1: result=error_free_classifier_found, iterations=1\n",
      "Test 2: result=error_free_classifier_found, iterations=1\n",
      "Test 3: result=error_free_classifier_found, iterations=1\n",
      "Test 4: result=error_free_classifier_found, iterations=1\n",
      "Test 5: result=error_free_classifier_found, iterations=1\n"
     ]
    }
   ],
   "source": [
    "clf_v2 = AdaBoostStandardClassifier_v2(n_estimators=10)\n",
    "for num in range(len(y_test1)):\n",
    "    result, history = clf_v2.fit(X_test1, y_test1[num, 0], trace=True)\n",
    "    print(\"Test {}: result={}, iterations={}\".format(num, result, len(history['error'])))\n",
    "    assert len(clf_v2.ensemble) == 1, \"Too many classifiers\"\n",
    "    stamp = clf_v2.ensemble[0][1]\n",
    "    expected = y_test1[num, 1]\n",
    "    assert stamp.feature_number == expected[0]\\\n",
    "        , \"Wrong feature_number: expected {}, found {}\".format(expected[0], stamp.feature_number)\n",
    "    assert stamp.sign == expected[1], \"Wrong sign: expected {}, found {}\".format(expected[1], stamp.sign)\n",
    "    assert stamp.threshold == expected[2]\\\n",
    "        , \"Wrong threshold: expected {}, found {}\".format(expected[2], stamp.threshold)\n"
   ]
  },
  {
   "cell_type": "code",
   "execution_count": 15,
   "metadata": {},
   "outputs": [
    {
     "name": "stdout",
     "output_type": "stream",
     "text": [
      "Test 0: expected [-1. -1. -1.], prediction [-1. -1. -1.]\n",
      "Test 1: expected [1. 1. 1.], prediction [1. 1. 1.]\n",
      "Test 2: expected [ 1. -1. -1.], prediction [ 1. -1. -1.]\n",
      "Test 3: expected [-1. -1.  1.], prediction [-1. -1.  1.]\n",
      "Test 4: expected [ 1. -1.  1.], prediction [ 1. -1.  1.]\n",
      "Test 5: expected [-1.  1. -1.], prediction [-1.  1. -1.]\n"
     ]
    }
   ],
   "source": [
    "clf_linear = AdaBoostLinear_v1()\n",
    "for num in range(len(y_test1)):\n",
    "    y_test_linear = y_test1[num, 0]\n",
    "    result, _ = clf_linear.fit(X_test1, y_test_linear, trace=True)\n",
    "    y_test_prediction = clf_linear.predict(X_test1)\n",
    "    print(\"Test {}: expected {}, prediction {}\".format(num, y_test_linear, y_test_prediction))\n",
    "    for expected, actual in zip(y_test_linear, y_test_prediction):\n",
    "        assert expected == actual, \"Wrong prediction.\"\n"
   ]
  },
  {
   "cell_type": "code",
   "execution_count": null,
   "metadata": {},
   "outputs": [],
   "source": []
  }
 ],
 "metadata": {
  "kernelspec": {
   "display_name": "Python 3",
   "language": "python",
   "name": "python3"
  },
  "language_info": {
   "codemirror_mode": {
    "name": "ipython",
    "version": 3
   },
   "file_extension": ".py",
   "mimetype": "text/x-python",
   "name": "python",
   "nbconvert_exporter": "python",
   "pygments_lexer": "ipython3",
   "version": "3.8.5"
  }
 },
 "nbformat": 4,
 "nbformat_minor": 4
}
