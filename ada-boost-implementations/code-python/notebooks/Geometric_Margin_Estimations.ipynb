{
 "cells": [
  {
   "cell_type": "code",
   "execution_count": 1,
   "id": "01a4e6e5",
   "metadata": {},
   "outputs": [],
   "source": [
    "import numpy as np\n",
    "import pandas as pd\n",
    "import matplotlib.pyplot as plt\n",
    "from sklearn.ensemble import AdaBoostClassifier\n",
    "from sklearn.datasets import make_classification\n",
    "from sklearn.model_selection import train_test_split\n",
    "from sklearn.metrics import accuracy_score, balanced_accuracy_score, confusion_matrix, matthews_corrcoef\\\n",
    ", precision_score, recall_score, f1_score\n",
    "import time\n",
    "import math\n",
    "from collections import defaultdict"
   ]
  },
  {
   "cell_type": "code",
   "execution_count": 2,
   "id": "7245e6f4",
   "metadata": {},
   "outputs": [],
   "source": [
    "import os\n",
    "import sys\n",
    "new_path = \"d:/Projects-my/ml/Ml-hse-final/ada-boost-implementations/code-python/\"\n",
    "sys.path.append(new_path)\n",
    "classpath = 'd:/Projects-my/ml/Ml-hse-final/ada-boost-implementations/code-python/adaboost_java/lib-adaboost.jar'\n",
    "\n",
    "from ada_boost_standard_v1 import AdaBoostStandardClassifier_v1;\n",
    "#from ada_boost_standard_v2 import AdaBoostStandardClassifier_v2;\n",
    "from ada_boost_linear_v1 import AdaBoostLinear_v1;\n",
    "from generation_utils import make_classification_normal, make_separable_labels;\n",
    "from adaboost_java.ada_boost_java_v1 import AdaBoostJavaClassifier_v1;"
   ]
  },
  {
   "cell_type": "code",
   "execution_count": null,
   "id": "71937feb",
   "metadata": {},
   "outputs": [],
   "source": [
    "def generate_data(n_samples=200, n_features=50,n_informative=20, n_redundant=20, gap=0.1):\n",
    "    x_raw, _ = make_classification(n_samples=n_samples, n_features=n_features, n_informative=n_informative\n",
    "                                   , n_redundant=n_redundant, random_state=0, n_clusters_per_class=5, shuffle=False)\n",
    "\n",
    "    x_data, y_data, v_normal = make_separable_labels(x_raw, gap)\n",
    "    X_train, X_test, y_train, y_test = train_test_split(x_data, y_data, test_size=0.33, random_state=42)\n",
    "    return X_train, X_test, y_train, y_test"
   ]
  }
 ],
 "metadata": {
  "kernelspec": {
   "display_name": "Python 3 (ipykernel)",
   "language": "python",
   "name": "python3"
  },
  "language_info": {
   "codemirror_mode": {
    "name": "ipython",
    "version": 3
   },
   "file_extension": ".py",
   "mimetype": "text/x-python",
   "name": "python",
   "nbconvert_exporter": "python",
   "pygments_lexer": "ipython3",
   "version": "3.9.7"
  }
 },
 "nbformat": 4,
 "nbformat_minor": 5
}
